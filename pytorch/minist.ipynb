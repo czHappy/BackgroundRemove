{
 "cells": [
  {
   "cell_type": "code",
   "execution_count": 1,
   "metadata": {},
   "outputs": [],
   "source": [
    "import torch\n",
    "import torch.nn as nn\n",
    "import torch.nn.functional as F\n",
    "import torch.optim as optim\n",
    "from torchvision import datasets, transforms"
   ]
  },
  {
   "cell_type": "code",
   "execution_count": 2,
   "metadata": {},
   "outputs": [],
   "source": [
    "BATCH_SIZE=512 # 批次大小\n",
    "EPOCHS=5 # 总共训练批次\n",
    "DEVICE = torch.device(\"cuda\" if torch.cuda.is_available() else \"cpu\") # 让torch判断是否使用GPU，建议使用GPU环境，因为会快很多\n",
    " "
   ]
  },
  {
   "cell_type": "code",
   "execution_count": 3,
   "metadata": {},
   "outputs": [
    {
     "name": "stdout",
     "output_type": "stream",
     "text": [
      "train_data: torch.Size([60000, 28, 28])\n",
      "test_data: torch.Size([10000, 28, 28])\n"
     ]
    }
   ],
   "source": [
    "DOWNLOAD_MNIST = False\n",
    "\n",
    "train_data = datasets.MNIST('../MNIST_data/', train=True, download=DOWNLOAD_MNIST,\n",
    "                       transform=transforms.Compose([\n",
    "                           transforms.ToTensor(),\n",
    "                           transforms.Normalize((0.1307,), (0.3081,))\n",
    "                       ]))\n",
    "\n",
    "test_data = datasets.MNIST('../MNIST_data/', train=False, transform=transforms.Compose([\n",
    "                           transforms.ToTensor(),\n",
    "                           transforms.Normalize((0.1307,), (0.3081,))\n",
    "                       ]))\n",
    "\n",
    "train_loader = torch.utils.data.DataLoader(\n",
    "        train_data,\n",
    "        batch_size=BATCH_SIZE, shuffle=True)\n",
    "\n",
    "test_loader = torch.utils.data.DataLoader(\n",
    "        test_data,\n",
    "        batch_size=BATCH_SIZE, shuffle=True)\n",
    "\n",
    "print(\"train_data:\", train_data.data.size()) #torch.size() 查看tensor的维度\n",
    "print(\"test_data:\", test_data.data.size())"
   ]
  },
  {
   "cell_type": "code",
   "execution_count": 4,
   "metadata": {},
   "outputs": [],
   "source": [
    "class ConvNet(nn.Module):\n",
    "    def __init__(self):\n",
    "        super().__init__()\n",
    "        # 1,28x28\n",
    "        self.conv1=nn.Conv2d(1 ,10,5) # 24x24 input_channel output_channel kernel_size strides=1 (28-5+1) / 1 = 24\n",
    "        self.pool = nn.MaxPool2d(2,2) # 12x12\n",
    "        self.conv2=nn.Conv2d(10,20,3) # 10x10 (12-3+1)/1 = 10\n",
    "        self.fc1 = nn.Linear(20*10*10,500)\n",
    "        self.fc2 = nn.Linear(500,10)\n",
    "    def forward(self,x):\n",
    "        in_size = x.size(0) #512,BATCH_SIZE\n",
    "        #print(in_size)\n",
    "        out = self.conv1(x) #24\n",
    "        out = F.relu(out)\n",
    "        out = self.pool(out)  #12\n",
    "        out = self.conv2(out) #10\n",
    "        out = F.relu(out)\n",
    "        out = out.view(in_size,-1)# the size -1 is inferred from other dimensions, result:(BATCH_SIZE , N) 证明输入网络的数据以batch为单位\n",
    "        out = self.fc1(out)\n",
    "        out = F.relu(out)\n",
    "        out = self.fc2(out)\n",
    "        out = F.log_softmax(out,dim=1)\n",
    "        return out\n"
   ]
  },
  {
   "cell_type": "code",
   "execution_count": 5,
   "metadata": {},
   "outputs": [],
   "source": [
    "\n",
    "def train(model, device, train_loader, optimizer, epoch):\n",
    "    model.train()# train 模式 启用 BatchNormalization 和 Dropout\n",
    "    for batch_idx, (data, target) in enumerate(train_loader):\n",
    "        data, target = data.to(device), target.to(device)#把tensor送到相应设备上\n",
    "        optimizer.zero_grad() #梯度清零\n",
    "        output = model(data) #前向推理，自动调用model.forward \n",
    "        loss = F.nll_loss(output, target) #计算NLLLoss 负对数似然损失 根据标签把对应位置的值取出来去掉符号相加做平均 而交叉熵 = Softmax–Log–NLLLoss合并成一步\n",
    "        loss.backward()#有了loss之后反向传播\n",
    "        optimizer.step()#更新参数\n",
    "        if(batch_idx+1) % 30 == 0:\n",
    "            print('Train Epoch: {} [{}/{} ({:.0f}%)]\\tLoss: {:.6f}'.format(\n",
    "                epoch, batch_idx * len(data), len(train_loader.dataset),\n",
    "                100. * batch_idx / len(train_loader), loss.item())) #用item得到元素值\n",
    "                \n",
    "def test(model, device, test_loader):\n",
    "    model.eval()# eval 模式 关闭 BatchNormalization 和 Dropout\n",
    "    test_loss = 0\n",
    "    correct = 0\n",
    "    with torch.no_grad(): #关闭梯度计算\n",
    "        for data, target in test_loader:\n",
    "            data, target = data.to(device), target.to(device)\n",
    "            output = model(data)\n",
    "            test_loss += F.nll_loss(output, target, reduction='sum').item() # 将一批的损失相加\n",
    "            pred = output.max(1, keepdim=True)[1] # 找到概率最大的下标\n",
    "            correct += pred.eq(target.view_as(pred)).sum().item()\n",
    "\n",
    "    test_loss /= len(test_loader.dataset)\n",
    "    print('\\nTest set: Average loss: {:.4f}, Accuracy: {}/{} ({:.0f}%)\\n'.format(\n",
    "        test_loss, correct, len(test_loader.dataset),\n",
    "        100. * correct / len(test_loader.dataset)))\n",
    "\n",
    "\n",
    "\n"
   ]
  },
  {
   "cell_type": "code",
   "execution_count": 6,
   "metadata": {},
   "outputs": [
    {
     "name": "stdout",
     "output_type": "stream",
     "text": [
      "Train Epoch: 1 [14848/60000 (25%)]\tLoss: 0.347907\n",
      "Train Epoch: 1 [30208/60000 (50%)]\tLoss: 0.187541\n",
      "Train Epoch: 1 [45568/60000 (75%)]\tLoss: 0.161312\n",
      "\n",
      "Test set: Average loss: 0.0902, Accuracy: 9746/10000 (97%)\n",
      "\n",
      "Train Epoch: 2 [14848/60000 (25%)]\tLoss: 0.156242\n",
      "Train Epoch: 2 [30208/60000 (50%)]\tLoss: 0.070588\n",
      "Train Epoch: 2 [45568/60000 (75%)]\tLoss: 0.077610\n",
      "\n",
      "Test set: Average loss: 0.0632, Accuracy: 9806/10000 (98%)\n",
      "\n",
      "Train Epoch: 3 [14848/60000 (25%)]\tLoss: 0.075663\n",
      "Train Epoch: 3 [30208/60000 (50%)]\tLoss: 0.050295\n",
      "Train Epoch: 3 [45568/60000 (75%)]\tLoss: 0.034362\n",
      "\n",
      "Test set: Average loss: 0.0416, Accuracy: 9863/10000 (99%)\n",
      "\n",
      "Train Epoch: 4 [14848/60000 (25%)]\tLoss: 0.031840\n",
      "Train Epoch: 4 [30208/60000 (50%)]\tLoss: 0.058905\n",
      "Train Epoch: 4 [45568/60000 (75%)]\tLoss: 0.028396\n",
      "\n",
      "Test set: Average loss: 0.0382, Accuracy: 9872/10000 (99%)\n",
      "\n",
      "Train Epoch: 5 [14848/60000 (25%)]\tLoss: 0.037170\n",
      "Train Epoch: 5 [30208/60000 (50%)]\tLoss: 0.049495\n",
      "Train Epoch: 5 [45568/60000 (75%)]\tLoss: 0.024958\n",
      "\n",
      "Test set: Average loss: 0.0367, Accuracy: 9890/10000 (99%)\n",
      "\n"
     ]
    }
   ],
   "source": [
    "model = ConvNet().to(DEVICE)\n",
    "optimizer = optim.Adam(model.parameters()) #使用adam优化器\n",
    "for epoch in range(1, EPOCHS + 1):\n",
    "    train(model, DEVICE, train_loader, optimizer, epoch)\n",
    "    test(model, DEVICE, test_loader)"
   ]
  },
  {
   "cell_type": "code",
   "execution_count": 14,
   "metadata": {},
   "outputs": [
    {
     "name": "stdout",
     "output_type": "stream",
     "text": [
      "ConvNet(\n",
      "  (conv1): Conv2d(1, 10, kernel_size=(5, 5), stride=(1, 1))\n",
      "  (pool): MaxPool2d(kernel_size=2, stride=2, padding=0, dilation=1, ceil_mode=False)\n",
      "  (conv2): Conv2d(10, 20, kernel_size=(3, 3), stride=(1, 1))\n",
      "  (fc1): Linear(in_features=2000, out_features=500, bias=True)\n",
      "  (fc2): Linear(in_features=500, out_features=10, bias=True)\n",
      ")\n"
     ]
    }
   ],
   "source": [
    "print(model)"
   ]
  },
  {
   "cell_type": "code",
   "execution_count": 16,
   "metadata": {},
   "outputs": [],
   "source": [
    "MODEL_PATH = './models/convnet_mnist.pth'\n",
    "torch.save(model.state_dict(),MODEL_PATH) #只存字典，直接输入model的话会保存整个模型 "
   ]
  },
  {
   "cell_type": "code",
   "execution_count": 24,
   "metadata": {},
   "outputs": [
    {
     "data": {
      "text/plain": [
       "ConvNet(\n",
       "  (conv1): Conv2d(1, 10, kernel_size=(5, 5), stride=(1, 1))\n",
       "  (pool): MaxPool2d(kernel_size=2, stride=2, padding=0, dilation=1, ceil_mode=False)\n",
       "  (conv2): Conv2d(10, 20, kernel_size=(3, 3), stride=(1, 1))\n",
       "  (fc1): Linear(in_features=2000, out_features=500, bias=True)\n",
       "  (fc2): Linear(in_features=500, out_features=10, bias=True)\n",
       ")"
      ]
     },
     "execution_count": 24,
     "metadata": {},
     "output_type": "execute_result"
    }
   ],
   "source": [
    "#注意这里必须送到DEVICE中去 原因是cpu和gpu上的tensor不一样\n",
    "#否则报错Input type (torch.cuda.FloatTensor) and weight type (torch.FloatTensor) should be the same\n",
    "model_load = ConvNet().to(DEVICE) \n",
    "model_load.load_state_dict(torch.load(MODEL_PATH))\n",
    "model.eval()\n",
    "# model.train() ：启用 BatchNormalization 和 Dropout\n",
    "# model.eval() ：不启用 BatchNormalization 和 Dropout"
   ]
  },
  {
   "cell_type": "code",
   "execution_count": 25,
   "metadata": {},
   "outputs": [
    {
     "name": "stdout",
     "output_type": "stream",
     "text": [
      "\n",
      "Test set: Average loss: 0.0373, Accuracy: 9913/10000 (99%)\n",
      "\n"
     ]
    }
   ],
   "source": [
    "test(model_load, DEVICE, test_loader)"
   ]
  },
  {
   "cell_type": "code",
   "execution_count": null,
   "metadata": {},
   "outputs": [],
   "source": []
  }
 ],
 "metadata": {
  "kernelspec": {
   "display_name": "Python 3",
   "language": "python",
   "name": "python3"
  },
  "language_info": {
   "codemirror_mode": {
    "name": "ipython",
    "version": 3
   },
   "file_extension": ".py",
   "mimetype": "text/x-python",
   "name": "python",
   "nbconvert_exporter": "python",
   "pygments_lexer": "ipython3",
   "version": "3.6.7"
  }
 },
 "nbformat": 4,
 "nbformat_minor": 4
}
