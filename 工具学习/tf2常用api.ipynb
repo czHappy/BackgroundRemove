{
 "cells": [
  {
   "cell_type": "code",
   "execution_count": 1,
   "metadata": {},
   "outputs": [],
   "source": [
    "import tensorflow as tf\n",
    "import numpy as np"
   ]
  },
  {
   "cell_type": "markdown",
   "metadata": {},
   "source": [
    "# 创建张量\n",
    "- constant\n",
    "- tf.convert_to_tensor   create tensor from numpy\n",
    "- zeros ones fill\n",
    "- 随机数\n",
    "- 强制类型转换"
   ]
  },
  {
   "cell_type": "code",
   "execution_count": 2,
   "metadata": {},
   "outputs": [
    {
     "name": "stdout",
     "output_type": "stream",
     "text": [
      "tf.Tensor([1 4], shape=(2,), dtype=int64)\n",
      "<dtype: 'int64'>\n",
      "(2,)\n"
     ]
    }
   ],
   "source": [
    "a = tf.constant([1,4], dtype=tf.int64)\n",
    "print(a)\n",
    "print(a.dtype)\n",
    "print(a.shape)"
   ]
  },
  {
   "cell_type": "code",
   "execution_count": 3,
   "metadata": {},
   "outputs": [
    {
     "name": "stdout",
     "output_type": "stream",
     "text": [
      "[5. 6. 7. 8. 9.]\n",
      "tf.Tensor([5. 6. 7. 8. 9.], shape=(5,), dtype=float32)\n",
      "<class 'numpy.ndarray'>\n"
     ]
    },
    {
     "data": {
      "text/plain": [
       "[<matplotlib.lines.Line2D at 0x1ed36223da0>]"
      ]
     },
     "execution_count": 3,
     "metadata": {},
     "output_type": "execute_result"
    },
    {
     "data": {
      "image/png": "[encoded data removed]",
      "text/plain": [
       "<Figure size 432x288 with 1 Axes>"
      ]
     },
     "metadata": {
      "needs_background": "light"
     },
     "output_type": "display_data"
    }
   ],
   "source": [
    "# numpy 转tf格式\n",
    "import numpy as np\n",
    "import matplotlib.pyplot as plt\n",
    "a = np.arange(5., 10.)\n",
    "b = tf.convert_to_tensor(a, dtype=tf.float32)\n",
    "print(a)\n",
    "print(b)\n",
    "npp = b.numpy()# Returns a numpy array or a scalar with the same contents as the Tensor.\n",
    "print(type(npp))\n",
    "#help(b.numpy) \n",
    "plt.plot(npp)"
   ]
  },
  {
   "cell_type": "code",
   "execution_count": 4,
   "metadata": {},
   "outputs": [
    {
     "data": {
      "text/plain": [
       "<tf.Tensor: id=4, shape=(8,), dtype=float32, numpy=array([0., 0., 0., 0., 0., 0., 0., 0.], dtype=float32)>"
      ]
     },
     "execution_count": 4,
     "metadata": {},
     "output_type": "execute_result"
    }
   ],
   "source": [
    "tf.zeros(8)\n"
   ]
  },
  {
   "cell_type": "code",
   "execution_count": 5,
   "metadata": {},
   "outputs": [
    {
     "name": "stdout",
     "output_type": "stream",
     "text": [
      "Help on function zeros in module tensorflow.python.ops.array_ops:\n",
      "\n",
      "zeros(shape, dtype=tf.float32, name=None)\n",
      "    Creates a tensor with all elements set to zero.\n",
      "    \n",
      "    This operation returns a tensor of type `dtype` with shape `shape` and\n",
      "    all elements set to zero.\n",
      "    \n",
      "    For example:\n",
      "    \n",
      "    ```python\n",
      "    tf.zeros([3, 4], tf.int32)  # [[0, 0, 0, 0], [0, 0, 0, 0], [0, 0, 0, 0]]\n",
      "    ```\n",
      "    \n",
      "    Args:\n",
      "      shape: A list of integers, a tuple of integers, or a 1-D `Tensor` of type\n",
      "        `int32`.\n",
      "      dtype: The type of an element in the resulting `Tensor`.\n",
      "      name: A name for the operation (optional).\n",
      "    \n",
      "    Returns:\n",
      "      A `Tensor` with all elements set to zero.\n",
      "\n"
     ]
    },
    {
     "data": {
      "text/plain": [
       "<tf.Tensor: id=7, shape=(8, 8), dtype=float32, numpy=\n",
       "array([[0., 0., 0., 0., 0., 0., 0., 0.],\n",
       "       [0., 0., 0., 0., 0., 0., 0., 0.],\n",
       "       [0., 0., 0., 0., 0., 0., 0., 0.],\n",
       "       [0., 0., 0., 0., 0., 0., 0., 0.],\n",
       "       [0., 0., 0., 0., 0., 0., 0., 0.],\n",
       "       [0., 0., 0., 0., 0., 0., 0., 0.],\n",
       "       [0., 0., 0., 0., 0., 0., 0., 0.],\n",
       "       [0., 0., 0., 0., 0., 0., 0., 0.]], dtype=float32)>"
      ]
     },
     "execution_count": 5,
     "metadata": {},
     "output_type": "execute_result"
    }
   ],
   "source": [
    "help(tf.zeros)\n",
    "tf.zeros([8,8])"
   ]
  },
  {
   "cell_type": "code",
   "execution_count": 6,
   "metadata": {},
   "outputs": [
    {
     "data": {
      "text/plain": [
       "<tf.Tensor: id=10, shape=(8, 8), dtype=float32, numpy=\n",
       "array([[0., 0., 0., 0., 0., 0., 0., 0.],\n",
       "       [0., 0., 0., 0., 0., 0., 0., 0.],\n",
       "       [0., 0., 0., 0., 0., 0., 0., 0.],\n",
       "       [0., 0., 0., 0., 0., 0., 0., 0.],\n",
       "       [0., 0., 0., 0., 0., 0., 0., 0.],\n",
       "       [0., 0., 0., 0., 0., 0., 0., 0.],\n",
       "       [0., 0., 0., 0., 0., 0., 0., 0.],\n",
       "       [0., 0., 0., 0., 0., 0., 0., 0.]], dtype=float32)>"
      ]
     },
     "execution_count": 6,
     "metadata": {},
     "output_type": "execute_result"
    }
   ],
   "source": [
    "tf.zeros((8,8))"
   ]
  },
  {
   "cell_type": "code",
   "execution_count": 7,
   "metadata": {},
   "outputs": [
    {
     "data": {
      "text/plain": [
       "<tf.Tensor: id=13, shape=(2, 2), dtype=int32, numpy=\n",
       "array([[8848, 8848],\n",
       "       [8848, 8848]])>"
      ]
     },
     "execution_count": 7,
     "metadata": {},
     "output_type": "execute_result"
    }
   ],
   "source": [
    "a = tf.fill([2,2], 8848)\n",
    "a"
   ]
  },
  {
   "cell_type": "code",
   "execution_count": 8,
   "metadata": {},
   "outputs": [
    {
     "data": {
      "text/plain": [
       "<tf.Tensor: id=16, shape=(4, 5), dtype=float32, numpy=\n",
       "array([[1., 1., 1., 1., 1.],\n",
       "       [1., 1., 1., 1., 1.],\n",
       "       [1., 1., 1., 1., 1.],\n",
       "       [1., 1., 1., 1., 1.]], dtype=float32)>"
      ]
     },
     "execution_count": 8,
     "metadata": {},
     "output_type": "execute_result"
    }
   ],
   "source": [
    "b = tf.ones([4,5])\n",
    "b"
   ]
  },
  {
   "cell_type": "code",
   "execution_count": 9,
   "metadata": {},
   "outputs": [],
   "source": [
    "c = tf.random.normal([1000], mean=0, stddev=1)\n",
    "c1 = c.numpy()"
   ]
  },
  {
   "cell_type": "code",
   "execution_count": 10,
   "metadata": {},
   "outputs": [
    {
     "data": {
      "image/png": "[encoded data removed]",
      "text/plain": [
       "<Figure size 432x288 with 1 Axes>"
      ]
     },
     "metadata": {
      "needs_background": "light"
     },
     "output_type": "display_data"
    }
   ],
   "source": [
    "\n",
    "n, bins, patches = plt.hist(c1, 50, density=1, facecolor='g', alpha=0.75)\n",
    "#help(plt.hist)\n",
    "plt.xlabel('X')\n",
    "plt.ylabel('Y')\n",
    "plt.title('Histogram of Normal')\n",
    "#plt.text(-3, .25, r'$\\mu=0,\\ \\sigma=1$') #支持markdown语法\n",
    "plt.axis([-4, 4, 0, 0.5])\n",
    "plt.grid(True)\n",
    "plt.show()"
   ]
  },
  {
   "cell_type": "code",
   "execution_count": 11,
   "metadata": {},
   "outputs": [],
   "source": [
    "d =  tf.random.truncated_normal([1000],mean=0, stddev=1)\n",
    "d1 = d.numpy()"
   ]
  },
  {
   "cell_type": "code",
   "execution_count": 12,
   "metadata": {},
   "outputs": [
    {
     "data": {
      "image/png": "[encoded data removed]",
      "text/plain": [
       "<Figure size 432x288 with 1 Axes>"
      ]
     },
     "metadata": {
      "needs_background": "light"
     },
     "output_type": "display_data"
    }
   ],
   "source": [
    "n, bins, patches = plt.hist(d1, 50, density=1, facecolor='g', alpha=0.75)\n",
    "#help(plt.hist)\n",
    "plt.xlabel('X')\n",
    "plt.ylabel('Y')\n",
    "plt.title('Histogram of Normal')\n",
    "#plt.text(-3, .25, r'$\\mu=0,\\ \\sigma=1$') #支持markdown语法\n",
    "plt.axis([-4, 4, 0, 0.5])\n",
    "plt.grid(True)\n",
    "plt.show()"
   ]
  },
  {
   "cell_type": "code",
   "execution_count": 13,
   "metadata": {},
   "outputs": [
    {
     "data": {
      "text/plain": [
       "<tf.Tensor: id=35, shape=(5, 5), dtype=float32, numpy=\n",
       "array([[0.18868291, 0.09499729, 0.88174736, 0.63851416, 0.3499843 ],\n",
       "       [0.10410976, 0.9885274 , 0.6192547 , 0.62421024, 0.6714976 ],\n",
       "       [0.6450347 , 0.9353125 , 0.08804941, 0.3789426 , 0.4424572 ],\n",
       "       [0.05219829, 0.6189872 , 0.01219726, 0.24502885, 0.5524459 ],\n",
       "       [0.19574368, 0.7348298 , 0.10420918, 0.73971343, 0.36850333]],\n",
       "      dtype=float32)>"
      ]
     },
     "execution_count": 13,
     "metadata": {},
     "output_type": "execute_result"
    }
   ],
   "source": [
    "e = tf.random.uniform([5,5], minval=0, maxval=1)\n",
    "e"
   ]
  },
  {
   "cell_type": "code",
   "execution_count": 14,
   "metadata": {},
   "outputs": [
    {
     "name": "stdout",
     "output_type": "stream",
     "text": [
      "tf.Tensor([1. 2. 3. 4.], shape=(4,), dtype=float32)\n",
      "tf.Tensor([1 2 3 4], shape=(4,), dtype=int32)\n"
     ]
    }
   ],
   "source": [
    "x = tf.constant([1,2,3,4], dtype=tf.float32)\n",
    "y = tf.cast(x, dtype=tf.int32)\n",
    "print(x,y, sep='\\n')"
   ]
  },
  {
   "cell_type": "code",
   "execution_count": 15,
   "metadata": {},
   "outputs": [
    {
     "name": "stdout",
     "output_type": "stream",
     "text": [
      "tf.Tensor(\n",
      "[[1. 2.]\n",
      " [3. 4.]], shape=(2, 2), dtype=float32)\n"
     ]
    },
    {
     "data": {
      "text/plain": [
       "<tf.Tensor: id=41, shape=(2,), dtype=float32, numpy=array([2., 3.], dtype=float32)>"
      ]
     },
     "execution_count": 15,
     "metadata": {},
     "output_type": "execute_result"
    }
   ],
   "source": [
    "# reduce类操作\n",
    "x = tf.reshape(x, [2,2])\n",
    "print(x)\n",
    "tf.reduce_mean(x,0)#把第0维元素全部加起来然后除以第0维的size"
   ]
  },
  {
   "cell_type": "code",
   "execution_count": 16,
   "metadata": {},
   "outputs": [
    {
     "data": {
      "text/plain": [
       "<tf.Tensor: id=43, shape=(2,), dtype=float32, numpy=array([1.5, 3.5], dtype=float32)>"
      ]
     },
     "execution_count": 16,
     "metadata": {},
     "output_type": "execute_result"
    }
   ],
   "source": [
    "tf.reduce_mean(x,1)"
   ]
  },
  {
   "cell_type": "markdown",
   "metadata": {},
   "source": [
    "# 变量\n",
    "- 将变量标记为可训练，会在BP中记录梯度信息\n",
    "- 四则运算 tf.add substract multiply divide 操作在对应位置元素上 必须形状相同\n",
    "- tf.square tf.pow tf.sqrt\n"
   ]
  },
  {
   "cell_type": "code",
   "execution_count": 17,
   "metadata": {},
   "outputs": [],
   "source": [
    "a = tf.constant([1,2,3])\n",
    "# a[0] = 1 赋值 错误object does not support item assignment"
   ]
  },
  {
   "cell_type": "code",
   "execution_count": 18,
   "metadata": {},
   "outputs": [
    {
     "name": "stdout",
     "output_type": "stream",
     "text": [
      "tf.Tensor(\n",
      "[[1. 1. 1.]\n",
      " [1. 1. 1.]\n",
      " [1. 1. 1.]], shape=(3, 3), dtype=float32) tf.Tensor(\n",
      "[[2. 2. 2.]\n",
      " [2. 2. 2.]\n",
      " [2. 2. 2.]], shape=(3, 3), dtype=float32)\n",
      "tf.Tensor(\n",
      "[[6. 6. 6.]\n",
      " [6. 6. 6.]\n",
      " [6. 6. 6.]], shape=(3, 3), dtype=float32)\n",
      "tf.Tensor(\n",
      "[[2. 2. 2.]\n",
      " [2. 2. 2.]\n",
      " [2. 2. 2.]], shape=(3, 3), dtype=float32)\n"
     ]
    }
   ],
   "source": [
    "#矩阵乘法\n",
    "a = tf.ones([3,3])\n",
    "b = tf.fill([3,3], 2.0)\n",
    "print(a,b)\n",
    "c1 = tf.matmul(a, b)\n",
    "#c = tf.multiply(a,b)\n",
    "c2 = tf.multiply(a, b)\n",
    "print(c1)\n",
    "print(c2)"
   ]
  },
  {
   "cell_type": "markdown",
   "metadata": {},
   "source": [
    "# 常用函数\n",
    "- Dataset.from_tensor_slices\n",
    "- tf.GradientTape\n",
    "- enumerate\n",
    "- tf.one_hot\n",
    "- tf.nn.softmax 用于分类 \n",
    "- (tensor)assign()\n",
    "- argmax\n",
    "- tf.where\n",
    "- np.mgrid ravel np.c_[]"
   ]
  },
  {
   "cell_type": "code",
   "execution_count": 19,
   "metadata": {},
   "outputs": [
    {
     "name": "stdout",
     "output_type": "stream",
     "text": [
      "<TensorSliceDataset shapes: ((), ()), types: (tf.int32, tf.int32)>\n",
      "(<tf.Tensor: id=62, shape=(), dtype=int32, numpy=12>, <tf.Tensor: id=63, shape=(), dtype=int32, numpy=0>)\n",
      "(<tf.Tensor: id=64, shape=(), dtype=int32, numpy=23>, <tf.Tensor: id=65, shape=(), dtype=int32, numpy=1>)\n",
      "(<tf.Tensor: id=66, shape=(), dtype=int32, numpy=10>, <tf.Tensor: id=67, shape=(), dtype=int32, numpy=1>)\n",
      "(<tf.Tensor: id=68, shape=(), dtype=int32, numpy=17>, <tf.Tensor: id=69, shape=(), dtype=int32, numpy=0>)\n"
     ]
    }
   ],
   "source": [
    "features = tf.constant([12,23,10,17])\n",
    "labels = tf.constant([0,1,1,0])\n",
    "dataset = tf.data.Dataset.from_tensor_slices((features, labels))\n",
    "print(dataset)\n",
    "for elem in dataset:\n",
    "    print(elem)"
   ]
  },
  {
   "cell_type": "code",
   "execution_count": 20,
   "metadata": {},
   "outputs": [
    {
     "name": "stdout",
     "output_type": "stream",
     "text": [
      "tf.Tensor(27.0, shape=(), dtype=float32)\n"
     ]
    }
   ],
   "source": [
    "with tf.GradientTape() as tape:\n",
    "    w = tf.Variable(tf.constant(3.0))\n",
    "    loss = tf.pow(w , 3)\n",
    "grad = tape.gradient(loss, w)\n",
    "print(grad)\n"
   ]
  },
  {
   "cell_type": "code",
   "execution_count": 21,
   "metadata": {},
   "outputs": [
    {
     "name": "stdout",
     "output_type": "stream",
     "text": [
      "tf.Tensor(\n",
      "[[0. 1. 0.]\n",
      " [1. 0. 0.]\n",
      " [0. 0. 1.]], shape=(3, 3), dtype=float32)\n"
     ]
    }
   ],
   "source": [
    "#help(tf.one_hot)\n",
    "cls = 3\n",
    "labels = tf.constant([1,0,2]) #实际上是先经过了排序然后确定编码的值\n",
    "output = tf.one_hot(labels, depth=cls)\n",
    "print(output)"
   ]
  },
  {
   "cell_type": "code",
   "execution_count": 22,
   "metadata": {},
   "outputs": [
    {
     "name": "stdout",
     "output_type": "stream",
     "text": [
      "tf.Tensor([0.25598174 0.69583046 0.04818781], shape=(3,), dtype=float32)\n",
      "idx = 1, label is 0, one_hot is [1. 0. 0.]\n"
     ]
    }
   ],
   "source": [
    "y = tf.constant([1.01, 2.01, -0.66])\n",
    "y_pred = tf.nn.softmax(y)\n",
    "print(y_pred)\n",
    "idx = tf.argmax(y)\n",
    "print('idx = %d, label is %d, one_hot is %s' %(idx, labels[idx], output[idx].numpy()))"
   ]
  },
  {
   "cell_type": "code",
   "execution_count": 23,
   "metadata": {},
   "outputs": [
    {
     "name": "stdout",
     "output_type": "stream",
     "text": [
      "<tf.Variable 'Variable:0' shape=() dtype=int32, numpy=0>\n"
     ]
    }
   ],
   "source": [
    "w = tf.Variable(4)\n",
    "w.assign(3)\n",
    "w.assign_sub(3)\n",
    "print(w)"
   ]
  },
  {
   "cell_type": "code",
   "execution_count": 24,
   "metadata": {},
   "outputs": [
    {
     "name": "stdout",
     "output_type": "stream",
     "text": [
      "[[9 0 5]\n",
      " [3 3 4]\n",
      " [9 6 2]]\n",
      "tf.Tensor(\n",
      "[[9 0 5]\n",
      " [3 3 4]\n",
      " [9 6 2]], shape=(3, 3), dtype=int32)\n",
      "tf.Tensor([0 2 0], shape=(3,), dtype=int64)\n",
      "tf.Tensor([0 2 0], shape=(3,), dtype=int64)\n"
     ]
    }
   ],
   "source": [
    "test = np.random.randint(0, 10, 9).reshape(3,3)\n",
    "print(test)\n",
    "t = tf.convert_to_tensor(test)\n",
    "print(t)\n",
    "print(tf.argmax(t, axis=0)) #投影到第0维，故而是压缩列，取出每一列最大值的索引\n",
    "print(tf.argmax(t, axis=1)) #投影到第1维，故而是压缩行，取出每一行最大值的索引"
   ]
  },
  {
   "cell_type": "code",
   "execution_count": 25,
   "metadata": {},
   "outputs": [
    {
     "data": {
      "text/plain": [
       "<tf.Tensor: id=127, shape=(5,), dtype=int32, numpy=array([1, 2, 3, 4, 5])>"
      ]
     },
     "execution_count": 25,
     "metadata": {},
     "output_type": "execute_result"
    }
   ],
   "source": [
    "a = tf.constant([1,2,3,1,1])\n",
    "b = tf.constant([0,1,3,4,5])\n",
    "c = tf.where(a > b, a , b)\n",
    "c"
   ]
  },
  {
   "cell_type": "code",
   "execution_count": 26,
   "metadata": {},
   "outputs": [
    {
     "name": "stdout",
     "output_type": "stream",
     "text": [
      "0.417022004702574\n",
      "[[7.20324493e-01 1.14374817e-04 3.02332573e-01]\n",
      " [1.46755891e-01 9.23385948e-02 1.86260211e-01]]\n"
     ]
    }
   ],
   "source": [
    "rdm = np.random.RandomState(seed=1)\n",
    "a = rdm.rand()\n",
    "b = rdm.rand(2,3)\n",
    "print(a, b, sep='\\n')"
   ]
  },
  {
   "cell_type": "code",
   "execution_count": 27,
   "metadata": {},
   "outputs": [
    {
     "name": "stdout",
     "output_type": "stream",
     "text": [
      "[[0.   0.25 0.5  0.75 1.  ]\n",
      " [0.   0.25 0.5  0.75 1.  ]\n",
      " [0.   0.25 0.5  0.75 1.  ]]\n",
      "[[0.  0.  0.  0.  0. ]\n",
      " [0.5 0.5 0.5 0.5 0.5]\n",
      " [1.  1.  1.  1.  1. ]]\n"
     ]
    },
    {
     "data": {
      "image/png": "[encoded data removed]",
      "text/plain": [
       "<Figure size 432x288 with 1 Axes>"
      ]
     },
     "metadata": {
      "needs_background": "light"
     },
     "output_type": "display_data"
    },
    {
     "name": "stdout",
     "output_type": "stream",
     "text": [
      "[(0.0, 0.0), (0.25, 0.0), (0.5, 0.0), (0.75, 0.0), (1.0, 0.0), (0.0, 0.5), (0.25, 0.5), (0.5, 0.5), (0.75, 0.5), (1.0, 0.5), (0.0, 1.0), (0.25, 1.0), (0.5, 1.0), (0.75, 1.0), (1.0, 1.0)]\n"
     ]
    }
   ],
   "source": [
    "#X , Y = np.meshgrid(x,y) 画网格，相当于用X 中的每个元素和 Y中每个元素组合起来画坐标点\n",
    "\n",
    "import matplotlib.pyplot as plt\n",
    "%matplotlib inline \n",
    "#%matplotlib具体作用是当你调用matplotlib.pyplot的绘图函数plot()进行绘图的时候，或者生成一个figure画布的时候\n",
    "#可以直接在你的python console里面生成图像。\n",
    "#在使用jupyter notebook 或者 jupyter qtconsole的时候，才会经常用到%matplotlib\n",
    "\n",
    "m, n = (5, 3)\n",
    "x = np.linspace(0, 1, m)\n",
    "y = np.linspace(0, 1, n)\n",
    "X, Y = np.meshgrid(x,y) \n",
    "print(X, Y,sep='\\n')\n",
    "plt.plot(X, Y, marker='+', color='blue', linestyle='none')\n",
    "plt.show()\n",
    "z = [i for i in zip(X.flat,Y.flat)]\n",
    "print(z)"
   ]
  },
  {
   "cell_type": "code",
   "execution_count": 35,
   "metadata": {},
   "outputs": [
    {
     "name": "stdout",
     "output_type": "stream",
     "text": [
      "x: [[1. 1. 1. 1.]\n",
      " [2. 2. 2. 2.]]\n",
      "y: [[2.  2.5 3.  3.5]\n",
      " [2.  2.5 3.  3.5]]\n",
      "[[1.  2. ]\n",
      " [1.  2.5]\n",
      " [1.  3. ]\n",
      " [1.  3.5]\n",
      " [2.  2. ]\n",
      " [2.  2.5]\n",
      " [2.  3. ]\n",
      " [2.  3.5]]\n"
     ]
    }
   ],
   "source": [
    "x, y = np.mgrid[1:3:1, 2:4:0.5]\n",
    "grid = np.c_[x.ravel(), y.ravel()]\n",
    "print(\"x:\", x)\n",
    "print('y:', y)\n",
    "print(grid)\n",
    "#help(np.ravel) # Return a contiguous flattened array.\n",
    "#help(np.c_) #Translates slice objects to concatenation along the second axis."
   ]
  },
  {
   "cell_type": "code",
   "execution_count": null,
   "metadata": {},
   "outputs": [],
   "source": []
  }
 ],
 "metadata": {
  "kernelspec": {
   "display_name": "Python 3",
   "language": "python",
   "name": "python3"
  },
  "language_info": {
   "codemirror_mode": {
    "name": "ipython",
    "version": 3
   },
   "file_extension": ".py",
   "mimetype": "text/x-python",
   "name": "python",
   "nbconvert_exporter": "python",
   "pygments_lexer": "ipython3",
   "version": "3.6.7"
  }
 },
 "nbformat": 4,
 "nbformat_minor": 4
}
